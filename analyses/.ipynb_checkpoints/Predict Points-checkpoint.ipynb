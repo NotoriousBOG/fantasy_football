{
 "cells": [
  {
   "cell_type": "code",
   "execution_count": 276,
   "metadata": {
    "collapsed": true
   },
   "outputs": [],
   "source": [
    "import psycopg2\n",
    "import pandas.io.sql as psql\n",
    "import pandas as pd\n",
    "from matplotlib import pyplot as plt\n",
    "from __future__ import division #now division always returns a floating point number\n",
    "import numpy as np\n",
    "import seaborn as sns\n",
    "from sklearn.cross_validation import train_test_split\n",
    "from sklearn.ensemble import RandomForestClassifier\n",
    "from sklearn.metrics import mean_squared_error\n",
    "from sklearn import preprocessing\n",
    "from collections import namedtuple\n",
    "%matplotlib inline"
   ]
  },
  {
   "cell_type": "code",
   "execution_count": 290,
   "metadata": {
    "collapsed": true
   },
   "outputs": [],
   "source": [
    "def rmean_sq(y_true, y_pred):\n",
    "    rmse = namedtuple('rmse', ['rmse', 'array'])\n",
    "    sq_error = []\n",
    "    assert len(y_true) == len(y_pred)\n",
    "    for i in range(len(y_true)):\n",
    "        sq_error.append((y_true[i] - y_pred[i])**2)\n",
    "    return rmse(np.sqrt(np.mean(sq_error)), np.sqrt(sq_error))\n",
    "\n",
    "\n",
    "def run_tests(model, X, y, n):\n",
    "    all_me = []\n",
    "    all_espn = []\n",
    "    MSE = namedtuple('MSE', ['me', 'espn', 'n'])\n",
    "    for i in range(n):\n",
    "        X_train, X_test, y_train, y_test = train_test_split(X, y, test_size=0.33)\n",
    "        model.fit(X_train, y_train)\n",
    "        model_predicted_points = model.predict(X_test)\n",
    "        me = rmean_sq(y_test, model_predicted_points)\n",
    "        espn = rmean_sq(y_test, X_test.points_projected)\n",
    "        all_me.append(me)\n",
    "        all_espn.append(espn)\n",
    "    return MSE(all_me, all_espn, n)"
   ]
  },
  {
   "cell_type": "markdown",
   "metadata": {},
   "source": [
    "# NEED TO COMPLETELY REDO WITH JUST WEEK 1 & 2 projection data and the actual points outcome and then use week 3 projection data as the test"
   ]
  },
  {
   "cell_type": "code",
   "execution_count": 319,
   "metadata": {
    "collapsed": false
   },
   "outputs": [],
   "source": [
    "season = 2015\n",
    "week = 3\n",
    "db = psycopg2.connect(\"dbname='fantasyfootball' host='localhost'\")\n",
    "\n",
    "projected_points = psql.read_sql(\"\"\"\n",
    "    select name, team, position, week, total_points as points_projected\n",
    "    from next_week_projections\n",
    "    where season = {0} and (week = '{1}' or week = '{2}')\"\"\".format(season, week, week-1), con=db)\n",
    "projected_points['index'] = projected_points['name'] + \"_\" + projected_points['team'] + \"_\" + projected_points['week']\n",
    "projected_points = projected_points.set_index('index')\n",
    "del projected_points['name']\n",
    "del projected_points['team']\n",
    "del projected_points['position']\n",
    "del projected_points['week']\n",
    "\n",
    "last_week_data = psql.read_sql(\"\"\"\n",
    "    select *\n",
    "    from scoring_leaders_weekly\n",
    "    where season = {0} and (week = '{1}' or week = '{2}')\"\"\".format(season,week-1, week), con=db)\n",
    "last_week_data['index'] = last_week_data['name'] + \"_\" + last_week_data['team'] + \"_\" + last_week_data['week']\n",
    "last_week_data = last_week_data.set_index('index')\n",
    "\n",
    "last_week_data.drop(['name', 'season'], axis=1, inplace=True)"
   ]
  },
  {
   "cell_type": "code",
   "execution_count": 320,
   "metadata": {
    "collapsed": false
   },
   "outputs": [],
   "source": [
    "merged_data = projected_points.merge(last_week_data, how='right', left_index=True, right_index=True)\n",
    "merged_data = merged_data.dropna()\n",
    "\n",
    "le = preprocessing.LabelEncoder()\n",
    "merged_data['team_factor'] = le.fit_transform(merged_data.team)\n",
    "merged_data['position_factor'] = le.fit_transform(merged_data.position)\n",
    "merged_data['opponent_factor'] = le.fit_transform(merged_data.opponent)\n",
    "\n",
    "merged_data.drop(['team', 'position', 'opponent'], axis=1, inplace=True)\n",
    "\n",
    "X_train = merged_data[merged_data.week == '2']\n",
    "X_test = merged_data[merged_data.week == '3']\n",
    "\n",
    "y_train = X_train['total_points']\n",
    "y_test = X_test['total_points']\n",
    "\n",
    "del X_train['total_points']\n",
    "del X_test['total_points']\n",
    "\n",
    "clf = RandomForestClassifier(n_estimators=1000)"
   ]
  },
  {
   "cell_type": "code",
   "execution_count": 329,
   "metadata": {
    "collapsed": true
   },
   "outputs": [],
   "source": [
    "clf.fit(X_train, y_train)\n",
    "model_predicted_points = clf.predict(X_test)\n",
    "me = rmean_sq(y_test, model_predicted_points)\n",
    "espn = rmean_sq(y_test, X_test.points_projected)"
   ]
  },
  {
   "cell_type": "code",
   "execution_count": 330,
   "metadata": {
    "collapsed": false
   },
   "outputs": [
    {
     "data": {
      "text/plain": [
       "4.8551843975260693"
      ]
     },
     "execution_count": 330,
     "metadata": {},
     "output_type": "execute_result"
    }
   ],
   "source": [
    "me.rmse"
   ]
  },
  {
   "cell_type": "code",
   "execution_count": 331,
   "metadata": {
    "collapsed": false
   },
   "outputs": [
    {
     "data": {
      "text/plain": [
       "6.4039732812065795"
      ]
     },
     "execution_count": 331,
     "metadata": {},
     "output_type": "execute_result"
    }
   ],
   "source": [
    "espn.rmse"
   ]
  },
  {
   "cell_type": "code",
   "execution_count": 332,
   "metadata": {
    "collapsed": false
   },
   "outputs": [
    {
     "data": {
      "text/plain": [
       "<matplotlib.axes._subplots.AxesSubplot at 0x10cbb0ed0>"
      ]
     },
     "execution_count": 332,
     "metadata": {},
     "output_type": "execute_result"
    },
    {
     "data": {
      "image/png": "[encoded data removed]",
      "text/plain": [
       "<matplotlib.figure.Figure at 0x11d774e10>"
      ]
     },
     "metadata": {},
     "output_type": "display_data"
    }
   ],
   "source": [
    "sns.distplot(me.array)\n",
    "sns.distplot(espn.array)"
   ]
  },
  {
   "cell_type": "markdown",
   "metadata": {},
   "source": [
    "# MY Team"
   ]
  },
  {
   "cell_type": "code",
   "execution_count": 334,
   "metadata": {
    "collapsed": false
   },
   "outputs": [
    {
     "data": {
      "text/plain": [
       "2"
      ]
     },
     "execution_count": 334,
     "metadata": {},
     "output_type": "execute_result"
    }
   ],
   "source": [
    "players = y_test.index.values.tolist()\n",
    "cj_index = players.index('C.J. Anderson_Den_3')\n",
    "model_predicted_points[cj_index]"
   ]
  },
  {
   "cell_type": "code",
   "execution_count": 335,
   "metadata": {
    "collapsed": false
   },
   "outputs": [
    {
     "data": {
      "text/plain": [
       "points_projected        12.9\n",
       "week                       3\n",
       "passing_completed          0\n",
       "passing_attempted          0\n",
       "passing_yds                0\n",
       "passing_td                 0\n",
       "passing_int                0\n",
       "rushing_attempts           8\n",
       "rushing_yds               18\n",
       "rushing_td                 0\n",
       "receiving_receptions       1\n",
       "receiving_yds              9\n",
       "receiving_td               0\n",
       "receiving_targets          1\n",
       "two_point_conv             0\n",
       "fumbles                    0\n",
       "total_returned_tds         0\n",
       "won_game                   1\n",
       "team_score                24\n",
       "opponent_score            12\n",
       "at_home                    0\n",
       "team_factor               20\n",
       "position_factor            3\n",
       "opponent_factor           10\n",
       "Name: C.J. Anderson_Den_3, dtype: object"
      ]
     },
     "execution_count": 335,
     "metadata": {},
     "output_type": "execute_result"
    }
   ],
   "source": [
    "X_test.iloc[cj_index,:]"
   ]
  },
  {
   "cell_type": "code",
   "execution_count": null,
   "metadata": {
    "collapsed": true
   },
   "outputs": [],
   "source": []
  }
 ],
 "metadata": {
  "kernelspec": {
   "display_name": "Python 2",
   "language": "python",
   "name": "python2"
  },
  "language_info": {
   "codemirror_mode": {
    "name": "ipython",
    "version": 2
   },
   "file_extension": ".py",
   "mimetype": "text/x-python",
   "name": "python",
   "nbconvert_exporter": "python",
   "pygments_lexer": "ipython2",
   "version": "2.7.10"
  }
 },
 "nbformat": 4,
 "nbformat_minor": 0
}
