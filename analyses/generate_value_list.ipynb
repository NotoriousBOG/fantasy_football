{
 "cells": [
  {
   "cell_type": "code",
   "execution_count": 33,
   "metadata": {
    "collapsed": true
   },
   "outputs": [],
   "source": [
    "import pandas as pd\n",
    "import numpy as np"
   ]
  },
  {
   "cell_type": "code",
   "execution_count": 8,
   "metadata": {
    "collapsed": true
   },
   "outputs": [],
   "source": [
    "raw_data = pd.read_json(\"../get_rankings/data/rankings_list.json\")"
   ]
  },
  {
   "cell_type": "markdown",
   "metadata": {},
   "source": [
    "##Number of times position shows up"
   ]
  },
  {
   "cell_type": "code",
   "execution_count": 10,
   "metadata": {
    "collapsed": false
   },
   "outputs": [
    {
     "data": {
      "text/plain": [
       "RB    113\n",
       "WR    103\n",
       "TE     35\n",
       "QB     32\n",
       "K      19\n",
       "D      18\n",
       "dtype: int64"
      ]
     },
     "execution_count": 10,
     "metadata": {},
     "output_type": "execute_result"
    }
   ],
   "source": [
    "raw_data.position.value_counts()"
   ]
  },
  {
   "cell_type": "markdown",
   "metadata": {},
   "source": [
    "##Metrics on score by position\n",
    "Looks like kickers score a lot, but almost no variance. Can see why RB's get taken first. Highest varience, so don't want to get stuck with a bad one"
   ]
  },
  {
   "cell_type": "code",
   "execution_count": 15,
   "metadata": {
    "collapsed": false
   },
   "outputs": [
    {
     "data": {
      "text/plain": [
       "position\n",
       "QB    245.050000\n",
       "K     132.947368\n",
       "D     114.333333\n",
       "WR     98.866990\n",
       "RB     82.410619\n",
       "TE     79.620000\n",
       "Name: points, dtype: float64"
      ]
     },
     "execution_count": 15,
     "metadata": {},
     "output_type": "execute_result"
    }
   ],
   "source": [
    "raw_data.groupby(\"position\").points.mean().order(ascending=False)"
   ]
  },
  {
   "cell_type": "code",
   "execution_count": 68,
   "metadata": {
    "collapsed": false
   },
   "outputs": [
    {
     "data": {
      "text/plain": [
       "position\n",
       "RB    68.318816\n",
       "QB    50.485654\n",
       "WR    46.053046\n",
       "TE    29.101211\n",
       "D     22.857616\n",
       "K      5.641844\n",
       "Name: points, dtype: float64"
      ]
     },
     "execution_count": 68,
     "metadata": {},
     "output_type": "execute_result"
    }
   ],
   "source": [
    "raw_data.groupby(\"position\").points.std().order(ascending=False)"
   ]
  },
  {
   "cell_type": "markdown",
   "metadata": {},
   "source": [
    "##ADP\n",
    "Lets use these counts for my baseline"
   ]
  },
  {
   "cell_type": "code",
   "execution_count": 17,
   "metadata": {
    "collapsed": true
   },
   "outputs": [],
   "source": [
    "adp = pd.read_csv(\"../get_rankings/data/adp.csv\")"
   ]
  },
  {
   "cell_type": "code",
   "execution_count": 18,
   "metadata": {
    "collapsed": false
   },
   "outputs": [
    {
     "data": {
      "text/html": [
       "<div style=\"max-height:1000px;max-width:1500px;overflow:auto;\">\n",
       "<table border=\"1\" class=\"dataframe\">\n",
       "  <thead>\n",
       "    <tr style=\"text-align: right;\">\n",
       "      <th></th>\n",
       "      <th>ADP</th>\n",
       "      <th>Overall</th>\n",
       "      <th>Name</th>\n",
       "      <th>Position</th>\n",
       "      <th>Team</th>\n",
       "      <th>Times Drafted</th>\n",
       "      <th>Bye</th>\n",
       "    </tr>\n",
       "  </thead>\n",
       "  <tbody>\n",
       "    <tr>\n",
       "      <th>0</th>\n",
       "      <td>1.02</td>\n",
       "      <td>2.1</td>\n",
       "      <td>Adrian Peterson</td>\n",
       "      <td>RB</td>\n",
       "      <td>MIN</td>\n",
       "      <td>254</td>\n",
       "      <td>5</td>\n",
       "    </tr>\n",
       "    <tr>\n",
       "      <th>1</th>\n",
       "      <td>1.03</td>\n",
       "      <td>2.5</td>\n",
       "      <td>LeVeon Bell</td>\n",
       "      <td>RB</td>\n",
       "      <td>PIT</td>\n",
       "      <td>127</td>\n",
       "      <td>11</td>\n",
       "    </tr>\n",
       "    <tr>\n",
       "      <th>2</th>\n",
       "      <td>1.04</td>\n",
       "      <td>3.7</td>\n",
       "      <td>Eddie Lacy</td>\n",
       "      <td>RB</td>\n",
       "      <td>GB</td>\n",
       "      <td>295</td>\n",
       "      <td>7</td>\n",
       "    </tr>\n",
       "    <tr>\n",
       "      <th>3</th>\n",
       "      <td>1.04</td>\n",
       "      <td>3.9</td>\n",
       "      <td>Jamaal Charles</td>\n",
       "      <td>RB</td>\n",
       "      <td>KC</td>\n",
       "      <td>160</td>\n",
       "      <td>9</td>\n",
       "    </tr>\n",
       "    <tr>\n",
       "      <th>4</th>\n",
       "      <td>1.05</td>\n",
       "      <td>5.1</td>\n",
       "      <td>Marshawn Lynch</td>\n",
       "      <td>RB</td>\n",
       "      <td>SEA</td>\n",
       "      <td>184</td>\n",
       "      <td>9</td>\n",
       "    </tr>\n",
       "  </tbody>\n",
       "</table>\n",
       "</div>"
      ],
      "text/plain": [
       "    ADP  Overall             Name Position Team  Times Drafted  Bye\n",
       "0  1.02      2.1  Adrian Peterson       RB  MIN            254    5\n",
       "1  1.03      2.5      LeVeon Bell       RB  PIT            127   11\n",
       "2  1.04      3.7       Eddie Lacy       RB   GB            295    7\n",
       "3  1.04      3.9   Jamaal Charles       RB   KC            160    9\n",
       "4  1.05      5.1   Marshawn Lynch       RB  SEA            184    9"
      ]
     },
     "execution_count": 18,
     "metadata": {},
     "output_type": "execute_result"
    }
   ],
   "source": [
    "adp.head()"
   ]
  },
  {
   "cell_type": "code",
   "execution_count": 19,
   "metadata": {
    "collapsed": false
   },
   "outputs": [
    {
     "data": {
      "text/plain": [
       "WR     61\n",
       "RB     57\n",
       "QB     20\n",
       "TE     17\n",
       "DEF    11\n",
       "PK      6\n",
       "dtype: int64"
      ]
     },
     "execution_count": 19,
     "metadata": {},
     "output_type": "execute_result"
    }
   ],
   "source": [
    "adp.Position.value_counts()"
   ]
  },
  {
   "cell_type": "markdown",
   "metadata": {},
   "source": [
    "##Calculate Added Value"
   ]
  },
  {
   "cell_type": "code",
   "execution_count": 42,
   "metadata": {
    "collapsed": true
   },
   "outputs": [],
   "source": [
    "positions = ['WR', 'RB', 'QB', 'TE', 'D', 'K']\n",
    "baseline = [61, 57, 20, 17, 12, 12]"
   ]
  },
  {
   "cell_type": "code",
   "execution_count": 51,
   "metadata": {
    "collapsed": false
   },
   "outputs": [],
   "source": [
    "def get_adj_points(pos, max_n):\n",
    "    position_data = raw_data[raw_data.position == pos].sort(\"points\", ascending=False)\n",
    "    position_data = position_data.set_index(np.arange(position_data.shape[0]))\n",
    "    position_data = position_data[position_data.index < max_n]\n",
    "    position_data['value_adj_points'] = position_data.points - position_data.iloc[max_n - 1].points\n",
    "    return position_data"
   ]
  },
  {
   "cell_type": "code",
   "execution_count": 53,
   "metadata": {
    "collapsed": false
   },
   "outputs": [],
   "source": [
    "all_adj = []\n",
    "for i in range(len(positions)):\n",
    "    all_adj.append(get_adj_points(positions[i], baseline[i]))"
   ]
  },
  {
   "cell_type": "code",
   "execution_count": 58,
   "metadata": {
    "collapsed": false
   },
   "outputs": [
    {
     "data": {
      "text/html": [
       "<div style=\"max-height:1000px;max-width:1500px;overflow:auto;\">\n",
       "<table border=\"1\" class=\"dataframe\">\n",
       "  <thead>\n",
       "    <tr style=\"text-align: right;\">\n",
       "      <th></th>\n",
       "      <th>name</th>\n",
       "      <th>points</th>\n",
       "      <th>position</th>\n",
       "      <th>team</th>\n",
       "      <th>value_adj_points</th>\n",
       "    </tr>\n",
       "  </thead>\n",
       "  <tbody>\n",
       "    <tr>\n",
       "      <th>0</th>\n",
       "      <td>Eddie Lacy</td>\n",
       "      <td>232.7</td>\n",
       "      <td>RB</td>\n",
       "      <td>GB</td>\n",
       "      <td>165.5</td>\n",
       "    </tr>\n",
       "    <tr>\n",
       "      <th>1</th>\n",
       "      <td>Adrian Peterson</td>\n",
       "      <td>222.6</td>\n",
       "      <td>RB</td>\n",
       "      <td>Min</td>\n",
       "      <td>155.4</td>\n",
       "    </tr>\n",
       "    <tr>\n",
       "      <th>2</th>\n",
       "      <td>Jamaal Charles</td>\n",
       "      <td>218.7</td>\n",
       "      <td>RB</td>\n",
       "      <td>KC</td>\n",
       "      <td>151.5</td>\n",
       "    </tr>\n",
       "    <tr>\n",
       "      <th>3</th>\n",
       "      <td>C.J. Anderson</td>\n",
       "      <td>218.6</td>\n",
       "      <td>RB</td>\n",
       "      <td>Den</td>\n",
       "      <td>151.4</td>\n",
       "    </tr>\n",
       "    <tr>\n",
       "      <th>4</th>\n",
       "      <td>Marshawn Lynch</td>\n",
       "      <td>216.6</td>\n",
       "      <td>RB</td>\n",
       "      <td>Sea</td>\n",
       "      <td>149.4</td>\n",
       "    </tr>\n",
       "  </tbody>\n",
       "</table>\n",
       "</div>"
      ],
      "text/plain": [
       "              name  points position team  value_adj_points\n",
       "0       Eddie Lacy   232.7       RB   GB             165.5\n",
       "1  Adrian Peterson   222.6       RB  Min             155.4\n",
       "2   Jamaal Charles   218.7       RB   KC             151.5\n",
       "3    C.J. Anderson   218.6       RB  Den             151.4\n",
       "4   Marshawn Lynch   216.6       RB  Sea             149.4"
      ]
     },
     "execution_count": 58,
     "metadata": {},
     "output_type": "execute_result"
    }
   ],
   "source": [
    "all_adj_df = pd.concat(all_adj)\n",
    "all_adj_df = all_adj_df.sort(\"value_adj_points\", ascending=False)\n",
    "all_adj_df.head()"
   ]
  },
  {
   "cell_type": "markdown",
   "metadata": {},
   "source": [
    "##Merge on ADP"
   ]
  },
  {
   "cell_type": "code",
   "execution_count": 60,
   "metadata": {
    "collapsed": true
   },
   "outputs": [],
   "source": [
    "adp_sub = adp[['ADP', 'Name', 'Bye']]"
   ]
  },
  {
   "cell_type": "code",
   "execution_count": 62,
   "metadata": {
    "collapsed": false
   },
   "outputs": [],
   "source": [
    "final_df = pd.merge(all_adj_df, adp_sub, left_on='name', right_on='Name', how='left')"
   ]
  },
  {
   "cell_type": "code",
   "execution_count": 66,
   "metadata": {
    "collapsed": false
   },
   "outputs": [],
   "source": [
    "final_df.to_csv(\"data/my_rankings.csv\")"
   ]
  },
  {
   "cell_type": "code",
   "execution_count": 72,
   "metadata": {
    "collapsed": false
   },
   "outputs": [
    {
     "data": {
      "text/plain": [
       "position\n",
       "RB    49.020958\n",
       "WR    31.320775\n",
       "QB    24.856097\n",
       "TE    22.505387\n",
       "D     22.407385\n",
       "K      3.146667\n",
       "Name: points, dtype: float64"
      ]
     },
     "execution_count": 72,
     "metadata": {},
     "output_type": "execute_result"
    }
   ],
   "source": [
    "final_df.groupby('position').points.std().order(ascending=False)"
   ]
  },
  {
   "cell_type": "code",
   "execution_count": 73,
   "metadata": {
    "collapsed": false
   },
   "outputs": [
    {
     "data": {
      "text/plain": [
       "position\n",
       "QB    275.335000\n",
       "RB    138.852632\n",
       "K     136.583333\n",
       "WR    129.306557\n",
       "D     123.500000\n",
       "TE    100.364706\n",
       "Name: points, dtype: float64"
      ]
     },
     "execution_count": 73,
     "metadata": {},
     "output_type": "execute_result"
    }
   ],
   "source": [
    "final_df.groupby('position').points.mean().order(ascending=False)"
   ]
  },
  {
   "cell_type": "code",
   "execution_count": null,
   "metadata": {
    "collapsed": true
   },
   "outputs": [],
   "source": []
  }
 ],
 "metadata": {
  "kernelspec": {
   "display_name": "Python 2",
   "language": "python",
   "name": "python2"
  },
  "language_info": {
   "codemirror_mode": {
    "name": "ipython",
    "version": 2
   },
   "file_extension": ".py",
   "mimetype": "text/x-python",
   "name": "python",
   "nbconvert_exporter": "python",
   "pygments_lexer": "ipython2",
   "version": "2.7.10"
  }
 },
 "nbformat": 4,
 "nbformat_minor": 0
}
